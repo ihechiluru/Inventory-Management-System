{
  "nbformat": 4,
  "nbformat_minor": 0,
  "metadata": {
    "colab": {
      "name": "Invenotory Management System.ipynb",
      "provenance": []
    },
    "kernelspec": {
      "name": "python3",
      "display_name": "Python 3"
    },
    "language_info": {
      "name": "python"
    }
  },
  "cells": [
    {
      "cell_type": "code",
      "metadata": {
        "id": "a8JHlVD86G41"
      },
      "source": [
        "import json\n",
        "import os\n",
        "from datetime import datetime"
      ],
      "execution_count": 5,
      "outputs": []
    },
    {
      "cell_type": "code",
      "metadata": {
        "id": "eCNpBYiM6KwY"
      },
      "source": [
        "def loadJson(fileName):\n",
        "  #Here we load the file into the dataframe \n",
        "    if os.path.exists(f'{fileName}.json'):\n",
        "        if os.stat(f\"{fileName}.json\").st_size == 0:\n",
        "            return {}\n",
        "        else:\n",
        "            with open(f'{fileName}.json','r') as f:\n",
        "                record=json.loads(f.read())\n",
        "            return record    \n",
        "    else:\n",
        "        return {}"
      ],
      "execution_count": 6,
      "outputs": []
    },
    {
      "cell_type": "code",
      "metadata": {
        "id": "KUSiYcT777qn"
      },
      "source": [
        "def dumpsJson(fileName,r):\n",
        "    #we use is method to save the json file\n",
        "    if input(f\"Do you want to save all {fileName} updates? Y/N  \").lower()=='y':\n",
        "        \n",
        "        txt=json.dumps(r)\n",
        "        with open(f'{fileName}.json','w') as f:\n",
        "          f.write(txt)\n",
        "        print('Your Record has been saved')\n",
        "    else:\n",
        "        print('Record is not saved')"
      ],
      "execution_count": 19,
      "outputs": []
    },
    {
      "cell_type": "markdown",
      "metadata": {
        "id": "OBAl9zS1-cCx"
      },
      "source": [
        "**The Function below is used to display records from our json file:**\n",
        "\n",
        "1. Display Adding and Updating Record\n",
        "2. Display The record for sales"
      ]
    },
    {
      "cell_type": "code",
      "metadata": {
        "id": "7vOtttRI798x"
      },
      "source": [
        "def displayRecord(r):\n",
        "  \n",
        "    \n",
        "    if r!={}:\n",
        "        print('Record')\n",
        "        for i in r:\n",
        "            print(i,\":=>\",r[i])\n",
        "    else:\n",
        "        print(\"The record is empty\")\n",
        "\n"
      ],
      "execution_count": 20,
      "outputs": []
    },
    {
      "cell_type": "markdown",
      "metadata": {
        "id": "jR5auL9F_F6x"
      },
      "source": [
        "**The function below is used to add records**"
      ]
    },
    {
      "cell_type": "code",
      "metadata": {
        "id": "DgC3rlSA8EB8"
      },
      "source": [
        "def addRecord(id):\n",
        "    \n",
        "    add=input(\"Do you want to add new record Y/N  \").lower()\n",
        "    if add=='y':\n",
        "        record[id]={}\n",
        "        name=input(\"Enter product name  \")\n",
        "        cat=input(\"Enter product Catogary  \")\n",
        "        price=int(input(\"Enter Product Price  \"))\n",
        "        quant=int(input(\"Enter Product Quantity  \"))\n",
        "        dis=int(input(\"Enter Product Discount % \"))\n",
        "        record[id]['name']=name\n",
        "        record[id]['catogary']=cat\n",
        "        record[id]['price']=price\n",
        "        record[id]['quantity']=quant\n",
        "        record[id]['discount']=dis\n",
        "        print(\"Record added successfully  \")\n",
        "    else:\n",
        "        print(\"Operation Cancel  \")"
      ],
      "execution_count": 21,
      "outputs": []
    },
    {
      "cell_type": "markdown",
      "metadata": {
        "id": "M7QfEZC1_6P8"
      },
      "source": [
        "The Function below is used to update records\n",
        "It asks whether the user wants to update a record and if yes it asks for the attribute to update and does the update and if otherwise the operation is canceled "
      ]
    },
    {
      "cell_type": "code",
      "metadata": {
        "id": "q-sMw0YP8ICk"
      },
      "source": [
        "def updateRecord(id):\n",
        "    \n",
        "    flag=True\n",
        "    update=input(\"Record Already Exist!!!\\nDo you want to update it? Y/N or enter q to exit  \").lower()\n",
        "    if update=='y':\n",
        "        while True:\n",
        "            key=input(\"Which one do you want to update \\n\\t:=>Name\\n\\t:=>Catagory\\n\\t:=>Price\\n\\t:=>Quantity\\n\\t:=>Discount \\n\\tEnter Your Choice \").lower()\n",
        "            print(record[id])\n",
        "            if key in record[id]:\n",
        "                record[id][key]=input(f\"Enter new Value for {key}  \")\n",
        "                break\n",
        "            else:\n",
        "                print(\"Wrong value Please enter Again  \")\n",
        "        print(\"Record updated successfully\")\n",
        "    if input(\"Do you want to update more Y/N\")=='':\n",
        "      \n",
        "      flag = True\n",
        "    else:\n",
        "      print(\"This operation has been canceled\")\n",
        "    return flag"
      ],
      "execution_count": 24,
      "outputs": []
    },
    {
      "cell_type": "code",
      "metadata": {
        "id": "4MDimU9avM8s"
      },
      "source": [
        "inventory = {\n",
        "    1001 : {\"product\": \"Tata Tea Premium\" , \"price\" :399  , \"quantity\" : 56 , \"mfg date\": \"20/09/20021\" , \"exp date\":\"20/09/2022\" },\n",
        "    1002 : {\"product\": \"Dabur Honey\" , \"price\" :155  , \"quantity\" :78  , \"mfg date\": \"09/04/2020\" , \"exp date\":\"09/04/2023\" },     \n",
        "    1003 : {\"product\": \"Tata Salt\" , \"price\" :19  , \"quantity\" :101  , \"mfg date\": \"08/03/2021\" , \"exp date\":\"08/03/2025\" },\n",
        "    1004 : {\"product\": \"Dabur Red Paste\" , \"price\" :202  , \"quantity\" :44  , \"mfg date\": \"2506/2021\" , \"exp date\":\"25/06/2022\" },\n",
        "    1005 : {\"product\": \"Kissan Mixed Fruit Jam\" , \"price\" :250  , \"quantity\" :200  , \"mfg date\": \"04/05/2021\" , \"exp date\":\"04/05/2024\" },   \n",
        "    1006 : {\"product\": \"Harpic Disinfectant Bathroom Cleaner Liquid, Lemon\" , \"price\" :309  , \"quantity\" :46  , \"mfg date\": \"28/04/2021\" , \"exp date\":\"28/04/2025\"  }, \n",
        "    1007 : {\"product\": \"Pears Pure And Gentle Bathing Bar\" , \"price\" :140  , \"quantity\" :88  , \"mfg date\": \"01/02/2020\" , \"exp date\":\"01/02/2022\"  },   \n",
        "    1008 : {\"product\": \"Dabur Lal Tail\" , \"price\" :262  , \"quantity\" :36  , \"mfg date\": \"26/09/2021\" , \"exp date\":\"26/09/2023\" },   \n",
        "    1009 : {\"product\": \"Ariel Matic Liquid Detergent\" , \"price\" :390  , \"quantity\" : 75 , \"mfg date\": \"04/06/2021\" , \"exp date\":\"04/06/2024\" },   \n",
        "    1010 : {\"product\": \"Aashirvaad Superior MP Atta\" , \"price\" :245  , \"quantity\" :96  , \"mfg date\": \"31/02/2021\" , \"exp date\":\"31/02/2024\"  },  \n",
        "    1011 : {\"product\": \"Saffola Honey\" , \"price\" :242  , \"quantity\" :56  , \"mfg date\": \"23/08/2021\" , \"exp date\":\"23/08/2023\" },    \n",
        "    1012 : {\"product\": \"Vim Dishwash Liquid Gel\" , \"price\" :334  , \"quantity\" :100  , \"mfg date\": \"04/02/2021\" , \"exp date\":\"04/02/2022\"  },    \n",
        "    1013 : {\"product\": \"Rajbhog Fox Nuts \" , \"price\" :288  , \"quantity\" :95  , \"mfg date\": \"20/05/2021\" , \"exp date\":\"20/05/2025\" },\n",
        "    1014 : {\"product\": \"Saffola Oodles\" , \"price\" :180  , \"quantity\" :87  , \"mfg date\": \"03/09/2021\" , \"exp date\":\"03/09/2023\" },    \n",
        "    1015 : {\"product\": \"Vedaka Whole Cardamom (Elaichi)\" , \"price\" :499  , \"quantity\" :60  , \"mfg date\": \"21/11/2021\", \"exp date\":\"21/11/2024\" },    \n",
        "    1016 : {\"product\": \"Brooke Bond Red Label Tea\" , \"price\" :510  , \"quantity\" :114  , \"mfg date\": \"14/10/2021\" , \"exp date\":\"14/10/2023\" },     \n",
        "    1017 : {\"product\": \"Harpic Disinfectant Toilet Cleaner Liquid\" , \"price\" :329  , \"quantity\" :63  , \"mfg date\": \"05/09/2021\" , \"exp date\":\"05/09/2022\" },\n",
        "    1018 : {\"product\": \"Fortune Sunlite Refined Sunflower Oil\" , \"price\" :160  , \"quantity\" : 65 , \"mfg date\": \"06/03/2021\" , \"exp date\":\"06/03/2023\" },   \n",
        "    1019 : {\"product\": \"Santoor Sandalwood and Turmeric Bath Soap\" , \"price\" :143  , \"quantity\" :74  , \"mfg date\": \"20/09/2021\" , \"exp date\":\"20/09/2022\" },    \n",
        "    1020 : {\"product\": \"Parachute 100 % Pure Coconut Oil\" , \"price\" :342  , \"quantity\" : 98 , \"mfg date\": \"19/08/2021\" , \"exp date\":\"19/08/2022\" },   \n",
        "    1021 : {\"product\": \"Maggi 2-Minute Noodles Masala\" , \"price\" :138  , \"quantity\" :85  , \"mfg date\": \"16/08/2021\" , \"exp date\": \"16/08/2022\"},\n",
        "    1022 : {\"product\": \"Tata Sampann Unpolished Toor Dal\" , \"price\" :145  , \"quantity\" :66  , \"mfg date\": \"03/08/2021\" , \"exp date\":\"03/08/2023\" },\n",
        "    1023 : {\"product\": \"Keya Himalayan Pink Salt\" , \"price\" :175  , \"quantity\" :76  , \"mfg date\": \"407/07/2021\" , \"exp date\":\"407/07/2023\" },   \n",
        "    1024 : {\"product\": \"Dettol Liquid Disinfectant for Floor Cleaner\" , \"price\" :312  , \"quantity\" :76  , \"mfg date\": \"23/06/2021\" , \"exp date\":\"23/06/2024\" },    \n",
        "    1025 : {\"product\": \"Bournvita Health Drink\" , \"price\" :684  , \"quantity\" :103  , \"mfg date\": \"9/05/2021\" , \"exp date\":\"9/05/2023\" },     \n",
        "    1026 : {\"product\": \"Dabur Meswak Toothpaste\" , \"price\" :237  , \"quantity\" :66  , \"mfg date\": \"10/10/2021\" , \"exp date\":\"10/10/20213\" },   \n",
        "    1027 : {\"product\": \"Dettol Original Germ Protection Bathing Soap Bar\" , \"price\" : 215 , \"quantity\" :97  , \"mfg date\": \"04/05/2021\" , \"exp date\":\"04/05/2023\" },   \n",
        "    1028 : {\"product\": \"Kohinoor Super Silver Basmati Rice\" , \"price\" :729  , \"quantity\" :72  , \"mfg date\": \"03/09/2021\" , \"exp date\":\"03/09/2024\" },   \n",
        "    1029 : {\"product\": \"Dabur 100% Pure Cow Ghee\" , \"price\" :499  , \"quantity\" :98  , \"mfg date\": \"30/05/2021\" , \"exp date\":\"30/05/2023\" }, \n",
        "    1030 : {\"product\": \"VASANT Chilli Powder\" , \"price\" : 465 , \"quantity\" : 45 , \"mfg date\": \"02/05/2021\" , \"exp date\":\"02/05/2021\"  },\n",
        "}"
      ],
      "execution_count": 4,
      "outputs": []
    },
    {
      "cell_type": "markdown",
      "metadata": {
        "id": "PRI6RQr_Ak-B"
      },
      "source": [
        "This function is used to buy a product from the Inventry management system\n",
        "\n"
      ]
    },
    {
      "cell_type": "markdown",
      "metadata": {
        "id": "67J3WDjkAxD9"
      },
      "source": [
        "Ask for the Product for purchase\n",
        "\n",
        "Checks for product availability\n",
        "\n",
        "Shows the product\n",
        "\n",
        "Requests payment"
      ]
    },
    {
      "cell_type": "code",
      "metadata": {
        "id": "BhnKCjG63NNq"
      },
      "source": [
        "def buyRecord(prodName):\n",
        "    \n",
        "    custName=input(\"Kindly Enter Your Name\")\n",
        "    AllProd={}\n",
        "    flag=True\n",
        "    for i in record:\n",
        "        if prodName == record[i]['name']:\n",
        "            AllProd[i]=f\"Name=> {record[i]['name']} \\n\\tPrice:=> {record[i]['price']}\"\n",
        "    if len(AllProd)==0:\n",
        "        print(\"Product Not Found  \")\n",
        "    elif len(AllProd)==1:\n",
        "        agree=input(f\"Do you want to buy Y/N y\\n\\t{list(AllProd.values())[0]} \\n\\tand enter q to quit  \").lower()\n",
        "        if agree=='y':\n",
        "            quant=int(input(\"Enter The Quantity of the product  \"))\n",
        "            key=list(AllProd.keys())[0]\n",
        "            for i in record:\n",
        "                if i==key:\n",
        "                    if record[i]['quantity']>=quant:\n",
        "                        price=record[i]['price']\n",
        "                        total=quant*price*((100-record[i]['discount'])/100)\n",
        "                        pay=input(f\"You Need To pay {total} \\nYou Want to pay or not y/n\")\n",
        "                        if pay=='y':\n",
        "                            record[i]['quantity']-=quant\n",
        "                            sales[len(sales)+1]={\n",
        "                                            \"id\":key,\n",
        "                                            \"Customer Name\":custName,\n",
        "                                            \"product Name\":prodName,\n",
        "                                            \"price\":price,\n",
        "                                            \"Quantity\":quant,\n",
        "                                            \"Total\":total,\n",
        "                                            \"Date/Time\":datetime.now().strftime(\"%d %b %Y :: %A,%H:%M:%S\"),\n",
        "                            }\n",
        "                            print(\"Your order has been placed succesfully\")\n",
        "                        else:\n",
        "                            print(\"Your order has been canceled\")\n",
        "                    else:\n",
        "                        print(f\"Sorry We have Only {record[i]['quantity']} product  \")\n",
        "        elif agree=='q':\n",
        "            flag=False\n",
        "    elif len(AllProd)>1:\n",
        "        print(f\"There are {len(AllProd)} with name:=>{prodName} \\nDo you want to buy Choose one Or enter q to exit  \")\n",
        "        j=0\n",
        "        product={}\n",
        "        for i in AllProd:\n",
        "            print(f\"{j}:=> {AllProd[i]}  \")\n",
        "            product[j]=AllProd[i]\n",
        "            j+=1 \n",
        "        \n",
        "        k=input(f\"Choose Number {list(range(j))}  \")\n",
        "        key=product[int(k)]\n",
        "        if k!='q':\n",
        "            quant=int(input(\"Enter The Quantity of the product  \"))\n",
        "            for i in record:\n",
        "                if i==key:\n",
        "                    if record[i]['quantity']>=quant:\n",
        "                        record[i]['quantity']-=quant\n",
        "                        print(\"Successfully Purchesed\")\n",
        "                    else:\n",
        "                        print(f\"Sorry We have Only {record[i]['quantity']} product  \")\n",
        "        else:\n",
        "            flag=False  \n",
        "    return flag"
      ],
      "execution_count": 26,
      "outputs": []
    },
    {
      "cell_type": "markdown",
      "metadata": {
        "id": "vKLOp68QBcej"
      },
      "source": [
        "# **Controlling Operations**"
      ]
    },
    {
      "cell_type": "markdown",
      "metadata": {
        "id": "19_C4ZizBmKM"
      },
      "source": [
        "This function/method is used for controlling operation like\n",
        "\n",
        "\n",
        "Add Record\n",
        "\n",
        "Buy Record\n",
        "\n",
        "\n",
        "This function hadles multiple operations like:\n",
        "\n",
        "Ask for Add record\n",
        "\n",
        "\n",
        "Enter Product I'd\n",
        "\n",
        "Check id is present or not\n",
        "\n",
        "If present then execute updateRecord method\n",
        "\n",
        "Otherwise execute addRecord method\n",
        "\n",
        "Ask for buy record\n",
        "\n",
        "Enter Product Name\n",
        "\n",
        "Execute buyRecord method"
      ]
    },
    {
      "cell_type": "code",
      "metadata": {
        "id": "48OUlCpQ3Sn-"
      },
      "source": [
        "\n",
        "\n",
        "def operations():\n",
        "    \n",
        "    flag=True\n",
        "    buyOrAdd=input(\"Do you want to add a record or Buy something from a record \\n\\t1:=> Add Records\\n\\t2:=> Buy Records\\n\\t3:=> Display Records \\n\\tQ:=>Exit \\n\\tEnter Your Choice \").lower()\n",
        "    if buyOrAdd in ('add','1'):\n",
        "        while flag:\n",
        "            id=int(input(\"Enter Product I'd  \"))\n",
        "            if (str(id) or id) not in record:\n",
        "                flag = addRecord(id)\n",
        "            elif (str(id) or id) in record:\n",
        "                flag = updateRecord(id)\n",
        "            if input(\"Do you want to add more y/n  \").lower()=='n':\n",
        "                flag=False\n",
        "            else:\n",
        "                flag=True\n",
        "        dumpsJson('record',record)\n",
        "    elif buyOrAdd in ('buy','2'):\n",
        "        while flag:\n",
        "            name=input(\"Enter product name  \")\n",
        "            flag=buyRecord(name)\n",
        "            if input(\"Do you want to buy more y/n  \").lower()=='n':\n",
        "                flag=False\n",
        "        dumpsJson('sales',sales)\n",
        "    elif buyOrAdd in (\"display\",'3'):\n",
        "        x=input(\"Enter Which Record do you want to Display:\\n\\t1:=> Product Record \\n\\t2:=> Sales Record\")\n",
        "        if x=='1':\n",
        "            displayRecord(record)\n",
        "        elif x=='2':\n",
        "            displayRecord(sales)\n",
        "        else:\n",
        "            print(\"Wrong Input\")\n",
        "    elif buyOrAdd=='q':\n",
        "        flag=False\n",
        "    else:\n",
        "        print(\"Wrong Input \\nPlease Enter again:=>  \")\n",
        "    return flag\n",
        "\n"
      ],
      "execution_count": 27,
      "outputs": []
    },
    {
      "cell_type": "code",
      "metadata": {
        "colab": {
          "base_uri": "https://localhost:8080/",
          "height": 796
        },
        "id": "2ems36VgCSm_",
        "outputId": "e69f5feb-92e5-44a1-ffd8-aa2314cb3903"
      },
      "source": [
        "if __name__=='__main__':\n",
        "    record=loadJson('record')\n",
        "    \n",
        "    flag=True\n",
        "    while flag:\n",
        "        print(\"Winner's Inventry Management System\")    \n",
        "        flag=True\n",
        "        print(\"\\n\\n Old Record \\n\")\n",
        "        if record=={}:\n",
        "            print(\"Record Empty \")\n",
        "        else:\n",
        "            for i in record:\n",
        "                print(i,\":=>\",record[i])\n",
        "        flag = operations()            \n",
        "        if input(\"Do you want to continue y/n  \").lower()=='n':\n",
        "            break\n",
        "        else:\n",
        "            flag=True\n",
        "    print(\"\\n\\n Thanks you For using \")"
      ],
      "execution_count": 30,
      "outputs": [
        {
          "output_type": "stream",
          "name": "stdout",
          "text": [
            "Winner's Inventry Management System\n",
            "\n",
            "\n",
            " Old Record \n",
            "\n",
            "Record Empty \n"
          ]
        },
        {
          "output_type": "error",
          "ename": "KeyboardInterrupt",
          "evalue": "ignored",
          "traceback": [
            "\u001b[0;31m---------------------------------------------------------------------------\u001b[0m",
            "\u001b[0;31mKeyboardInterrupt\u001b[0m                         Traceback (most recent call last)",
            "\u001b[0;32m/usr/local/lib/python3.7/dist-packages/ipykernel/kernelbase.py\u001b[0m in \u001b[0;36m_input_request\u001b[0;34m(self, prompt, ident, parent, password)\u001b[0m\n\u001b[1;32m    728\u001b[0m             \u001b[0;32mtry\u001b[0m\u001b[0;34m:\u001b[0m\u001b[0;34m\u001b[0m\u001b[0;34m\u001b[0m\u001b[0m\n\u001b[0;32m--> 729\u001b[0;31m                 \u001b[0mident\u001b[0m\u001b[0;34m,\u001b[0m \u001b[0mreply\u001b[0m \u001b[0;34m=\u001b[0m \u001b[0mself\u001b[0m\u001b[0;34m.\u001b[0m\u001b[0msession\u001b[0m\u001b[0;34m.\u001b[0m\u001b[0mrecv\u001b[0m\u001b[0;34m(\u001b[0m\u001b[0mself\u001b[0m\u001b[0;34m.\u001b[0m\u001b[0mstdin_socket\u001b[0m\u001b[0;34m,\u001b[0m \u001b[0;36m0\u001b[0m\u001b[0;34m)\u001b[0m\u001b[0;34m\u001b[0m\u001b[0;34m\u001b[0m\u001b[0m\n\u001b[0m\u001b[1;32m    730\u001b[0m             \u001b[0;32mexcept\u001b[0m \u001b[0mException\u001b[0m\u001b[0;34m:\u001b[0m\u001b[0;34m\u001b[0m\u001b[0;34m\u001b[0m\u001b[0m\n",
            "\u001b[0;32m/usr/local/lib/python3.7/dist-packages/jupyter_client/session.py\u001b[0m in \u001b[0;36mrecv\u001b[0;34m(self, socket, mode, content, copy)\u001b[0m\n\u001b[1;32m    802\u001b[0m         \u001b[0;32mtry\u001b[0m\u001b[0;34m:\u001b[0m\u001b[0;34m\u001b[0m\u001b[0;34m\u001b[0m\u001b[0m\n\u001b[0;32m--> 803\u001b[0;31m             \u001b[0mmsg_list\u001b[0m \u001b[0;34m=\u001b[0m \u001b[0msocket\u001b[0m\u001b[0;34m.\u001b[0m\u001b[0mrecv_multipart\u001b[0m\u001b[0;34m(\u001b[0m\u001b[0mmode\u001b[0m\u001b[0;34m,\u001b[0m \u001b[0mcopy\u001b[0m\u001b[0;34m=\u001b[0m\u001b[0mcopy\u001b[0m\u001b[0;34m)\u001b[0m\u001b[0;34m\u001b[0m\u001b[0;34m\u001b[0m\u001b[0m\n\u001b[0m\u001b[1;32m    804\u001b[0m         \u001b[0;32mexcept\u001b[0m \u001b[0mzmq\u001b[0m\u001b[0;34m.\u001b[0m\u001b[0mZMQError\u001b[0m \u001b[0;32mas\u001b[0m \u001b[0me\u001b[0m\u001b[0;34m:\u001b[0m\u001b[0;34m\u001b[0m\u001b[0;34m\u001b[0m\u001b[0m\n",
            "\u001b[0;32m/usr/local/lib/python3.7/dist-packages/zmq/sugar/socket.py\u001b[0m in \u001b[0;36mrecv_multipart\u001b[0;34m(self, flags, copy, track)\u001b[0m\n\u001b[1;32m    618\u001b[0m         \"\"\"\n\u001b[0;32m--> 619\u001b[0;31m         \u001b[0mparts\u001b[0m \u001b[0;34m=\u001b[0m \u001b[0;34m[\u001b[0m\u001b[0mself\u001b[0m\u001b[0;34m.\u001b[0m\u001b[0mrecv\u001b[0m\u001b[0;34m(\u001b[0m\u001b[0mflags\u001b[0m\u001b[0;34m,\u001b[0m \u001b[0mcopy\u001b[0m\u001b[0;34m=\u001b[0m\u001b[0mcopy\u001b[0m\u001b[0;34m,\u001b[0m \u001b[0mtrack\u001b[0m\u001b[0;34m=\u001b[0m\u001b[0mtrack\u001b[0m\u001b[0;34m)\u001b[0m\u001b[0;34m]\u001b[0m\u001b[0;34m\u001b[0m\u001b[0;34m\u001b[0m\u001b[0m\n\u001b[0m\u001b[1;32m    620\u001b[0m         \u001b[0;31m# have first part already, only loop while more to receive\u001b[0m\u001b[0;34m\u001b[0m\u001b[0;34m\u001b[0m\u001b[0;34m\u001b[0m\u001b[0m\n",
            "\u001b[0;32mzmq/backend/cython/socket.pyx\u001b[0m in \u001b[0;36mzmq.backend.cython.socket.Socket.recv\u001b[0;34m()\u001b[0m\n",
            "\u001b[0;32mzmq/backend/cython/socket.pyx\u001b[0m in \u001b[0;36mzmq.backend.cython.socket.Socket.recv\u001b[0;34m()\u001b[0m\n",
            "\u001b[0;32mzmq/backend/cython/socket.pyx\u001b[0m in \u001b[0;36mzmq.backend.cython.socket._recv_copy\u001b[0;34m()\u001b[0m\n",
            "\u001b[0;32m/usr/local/lib/python3.7/dist-packages/zmq/backend/cython/checkrc.pxd\u001b[0m in \u001b[0;36mzmq.backend.cython.checkrc._check_rc\u001b[0;34m()\u001b[0m\n",
            "\u001b[0;31mKeyboardInterrupt\u001b[0m: ",
            "\nDuring handling of the above exception, another exception occurred:\n",
            "\u001b[0;31mKeyboardInterrupt\u001b[0m                         Traceback (most recent call last)",
            "\u001b[0;32m<ipython-input-30-239e4c8ea525>\u001b[0m in \u001b[0;36m<module>\u001b[0;34m()\u001b[0m\n\u001b[1;32m     12\u001b[0m             \u001b[0;32mfor\u001b[0m \u001b[0mi\u001b[0m \u001b[0;32min\u001b[0m \u001b[0mrecord\u001b[0m\u001b[0;34m:\u001b[0m\u001b[0;34m\u001b[0m\u001b[0;34m\u001b[0m\u001b[0m\n\u001b[1;32m     13\u001b[0m                 \u001b[0mprint\u001b[0m\u001b[0;34m(\u001b[0m\u001b[0mi\u001b[0m\u001b[0;34m,\u001b[0m\u001b[0;34m\":=>\"\u001b[0m\u001b[0;34m,\u001b[0m\u001b[0mrecord\u001b[0m\u001b[0;34m[\u001b[0m\u001b[0mi\u001b[0m\u001b[0;34m]\u001b[0m\u001b[0;34m)\u001b[0m\u001b[0;34m\u001b[0m\u001b[0;34m\u001b[0m\u001b[0m\n\u001b[0;32m---> 14\u001b[0;31m         \u001b[0mflag\u001b[0m \u001b[0;34m=\u001b[0m \u001b[0moperations\u001b[0m\u001b[0;34m(\u001b[0m\u001b[0;34m)\u001b[0m\u001b[0;34m\u001b[0m\u001b[0;34m\u001b[0m\u001b[0m\n\u001b[0m\u001b[1;32m     15\u001b[0m         \u001b[0;32mif\u001b[0m \u001b[0minput\u001b[0m\u001b[0;34m(\u001b[0m\u001b[0;34m\"Do you want to continue y/n  \"\u001b[0m\u001b[0;34m)\u001b[0m\u001b[0;34m.\u001b[0m\u001b[0mlower\u001b[0m\u001b[0;34m(\u001b[0m\u001b[0;34m)\u001b[0m\u001b[0;34m==\u001b[0m\u001b[0;34m'n'\u001b[0m\u001b[0;34m:\u001b[0m\u001b[0;34m\u001b[0m\u001b[0;34m\u001b[0m\u001b[0m\n\u001b[1;32m     16\u001b[0m             \u001b[0;32mbreak\u001b[0m\u001b[0;34m\u001b[0m\u001b[0;34m\u001b[0m\u001b[0m\n",
            "\u001b[0;32m<ipython-input-27-9e27349670a1>\u001b[0m in \u001b[0;36moperations\u001b[0;34m()\u001b[0m\n\u001b[1;32m      4\u001b[0m \u001b[0;34m\u001b[0m\u001b[0m\n\u001b[1;32m      5\u001b[0m     \u001b[0mflag\u001b[0m\u001b[0;34m=\u001b[0m\u001b[0;32mTrue\u001b[0m\u001b[0;34m\u001b[0m\u001b[0;34m\u001b[0m\u001b[0m\n\u001b[0;32m----> 6\u001b[0;31m     \u001b[0mbuyOrAdd\u001b[0m\u001b[0;34m=\u001b[0m\u001b[0minput\u001b[0m\u001b[0;34m(\u001b[0m\u001b[0;34m\"Do you want to add a record or Buy something from a record \\n\\t1:=> Add Records\\n\\t2:=> Buy Records\\n\\t3:=> Display Records \\n\\tQ:=>Exit \\n\\tEnter Your Choice \"\u001b[0m\u001b[0;34m)\u001b[0m\u001b[0;34m.\u001b[0m\u001b[0mlower\u001b[0m\u001b[0;34m(\u001b[0m\u001b[0;34m)\u001b[0m\u001b[0;34m\u001b[0m\u001b[0;34m\u001b[0m\u001b[0m\n\u001b[0m\u001b[1;32m      7\u001b[0m     \u001b[0;32mif\u001b[0m \u001b[0mbuyOrAdd\u001b[0m \u001b[0;32min\u001b[0m \u001b[0;34m(\u001b[0m\u001b[0;34m'add'\u001b[0m\u001b[0;34m,\u001b[0m\u001b[0;34m'1'\u001b[0m\u001b[0;34m)\u001b[0m\u001b[0;34m:\u001b[0m\u001b[0;34m\u001b[0m\u001b[0;34m\u001b[0m\u001b[0m\n\u001b[1;32m      8\u001b[0m         \u001b[0;32mwhile\u001b[0m \u001b[0mflag\u001b[0m\u001b[0;34m:\u001b[0m\u001b[0;34m\u001b[0m\u001b[0;34m\u001b[0m\u001b[0m\n",
            "\u001b[0;32m/usr/local/lib/python3.7/dist-packages/ipykernel/kernelbase.py\u001b[0m in \u001b[0;36mraw_input\u001b[0;34m(self, prompt)\u001b[0m\n\u001b[1;32m    702\u001b[0m             \u001b[0mself\u001b[0m\u001b[0;34m.\u001b[0m\u001b[0m_parent_ident\u001b[0m\u001b[0;34m,\u001b[0m\u001b[0;34m\u001b[0m\u001b[0;34m\u001b[0m\u001b[0m\n\u001b[1;32m    703\u001b[0m             \u001b[0mself\u001b[0m\u001b[0;34m.\u001b[0m\u001b[0m_parent_header\u001b[0m\u001b[0;34m,\u001b[0m\u001b[0;34m\u001b[0m\u001b[0;34m\u001b[0m\u001b[0m\n\u001b[0;32m--> 704\u001b[0;31m             \u001b[0mpassword\u001b[0m\u001b[0;34m=\u001b[0m\u001b[0;32mFalse\u001b[0m\u001b[0;34m,\u001b[0m\u001b[0;34m\u001b[0m\u001b[0;34m\u001b[0m\u001b[0m\n\u001b[0m\u001b[1;32m    705\u001b[0m         )\n\u001b[1;32m    706\u001b[0m \u001b[0;34m\u001b[0m\u001b[0m\n",
            "\u001b[0;32m/usr/local/lib/python3.7/dist-packages/ipykernel/kernelbase.py\u001b[0m in \u001b[0;36m_input_request\u001b[0;34m(self, prompt, ident, parent, password)\u001b[0m\n\u001b[1;32m    732\u001b[0m             \u001b[0;32mexcept\u001b[0m \u001b[0mKeyboardInterrupt\u001b[0m\u001b[0;34m:\u001b[0m\u001b[0;34m\u001b[0m\u001b[0;34m\u001b[0m\u001b[0m\n\u001b[1;32m    733\u001b[0m                 \u001b[0;31m# re-raise KeyboardInterrupt, to truncate traceback\u001b[0m\u001b[0;34m\u001b[0m\u001b[0;34m\u001b[0m\u001b[0;34m\u001b[0m\u001b[0m\n\u001b[0;32m--> 734\u001b[0;31m                 \u001b[0;32mraise\u001b[0m \u001b[0mKeyboardInterrupt\u001b[0m\u001b[0;34m\u001b[0m\u001b[0;34m\u001b[0m\u001b[0m\n\u001b[0m\u001b[1;32m    735\u001b[0m             \u001b[0;32melse\u001b[0m\u001b[0;34m:\u001b[0m\u001b[0;34m\u001b[0m\u001b[0;34m\u001b[0m\u001b[0m\n\u001b[1;32m    736\u001b[0m                 \u001b[0;32mbreak\u001b[0m\u001b[0;34m\u001b[0m\u001b[0;34m\u001b[0m\u001b[0m\n",
            "\u001b[0;31mKeyboardInterrupt\u001b[0m: "
          ]
        }
      ]
    }
  ]
}